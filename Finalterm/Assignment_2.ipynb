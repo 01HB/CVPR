{
 "cells": [
  {
   "cell_type": "code",
   "execution_count": 3,
   "metadata": {},
   "outputs": [],
   "source": [
    "import cv2\n",
    "import numpy as np\n",
    "import argparse\n",
    "import time"
   ]
  },
  {
   "cell_type": "code",
   "execution_count": 4,
   "metadata": {},
   "outputs": [],
   "source": [
    "weights_dir = \"D:/Github/CVPR/Finalterm/yolov3/yolov3.weights\"\n",
    "cfg_dir = \"D:/Github/CVPR/Finalterm/yolov3/yolov3.cfg\"\n",
    "names_dir = \"D:/Github/CVPR/Finalterm/yolov3/coco.names\"\n",
    "\n",
    "def load_yolo():\n",
    "\tnet = cv2.dnn.readNet(weights_dir, cfg_dir)\n",
    "\tclasses = []\n",
    "\twith open(names_dir, \"r\") as f:\n",
    "\t\tclasses = [line.strip() for line in f.readlines()]\n",
    "\n",
    "\toutput_layers = [layer_name for layer_name in net.getUnconnectedOutLayersNames()]\n",
    "\tcolors = np.random.uniform(0, 255, size=(1000, 3))\n",
    "\treturn net, classes, colors, output_layers"
   ]
  },
  {
   "cell_type": "code",
   "execution_count": 5,
   "metadata": {},
   "outputs": [],
   "source": [
    "def load_image(img_path):\n",
    "\timg = cv2.imread(img_path)\n",
    "\timg = cv2.resize(img, (500, 500))\n",
    "\theight, width, channels = img.shape\n",
    "\treturn img, height, width, channels"
   ]
  },
  {
   "cell_type": "code",
   "execution_count": 6,
   "metadata": {},
   "outputs": [],
   "source": [
    "def detect_objects(img, net, outputLayers):\t\t\t\n",
    "\tblob = cv2.dnn.blobFromImage(img, scalefactor=0.00392, size=(320, 320), mean=(0, 0, 0), swapRB=True, crop=False)\n",
    "\tnet.setInput(blob)\n",
    "\toutputs = net.forward(outputLayers)\n",
    "\treturn blob, outputs"
   ]
  },
  {
   "cell_type": "code",
   "execution_count": 7,
   "metadata": {},
   "outputs": [],
   "source": [
    "def get_box_dimensions(outputs, height, width):\n",
    "\tboxes = []\n",
    "\tconfs = []\n",
    "\tclass_ids = []\n",
    "\tfor output in outputs:\n",
    "\t\tfor detect in output:\n",
    "\t\t\tscores = detect[5:]\n",
    "\t\t\t# print(scores)\n",
    "\t\t\tclass_id = np.argmax(scores)\n",
    "\t\t\tconf = scores[class_id]\n",
    "\t\t\tif conf > 0.2:\n",
    "\t\t\t\tcenter_x = int(detect[0] * width)\n",
    "\t\t\t\tcenter_y = int(detect[1] * height)\n",
    "\t\t\t\tw = int(detect[2] * width)\n",
    "\t\t\t\th = int(detect[3] * height)\n",
    "\t\t\t\tx = int(center_x - w/2)\n",
    "\t\t\t\ty = int(center_y - h / 2)\n",
    "\t\t\t\tboxes.append([x, y, w, h])\n",
    "\t\t\t\tconfs.append(float(conf))\n",
    "\t\t\t\tclass_ids.append(class_id)\n",
    "\treturn boxes, confs, class_ids"
   ]
  },
  {
   "cell_type": "code",
   "execution_count": 8,
   "metadata": {},
   "outputs": [],
   "source": [
    "def draw_labels(boxes, confs, colors, class_ids, classes, img):\n",
    "\tindexes = cv2.dnn.NMSBoxes(boxes, confs, 0.5, 0.4)\n",
    "\tfont = cv2.FONT_HERSHEY_PLAIN\n",
    "\tfor i in range(len(boxes)):\n",
    "\t\tif i in indexes:\n",
    "\t\t\tx, y, w, h = boxes[i]\n",
    "\t\t\tlabel = str(classes[class_ids[i]] + \" \" + str(round(confs[i], 2)))\n",
    "\t\t\tcolor = colors[i]\n",
    "\t\t\tcv2.rectangle(img, (x,y), (x+w, y+h), color, 2)\n",
    "\t\t\tcv2.putText(img, label, (x, y - 5), font, 1, color, 1)\n",
    "\tcv2.imshow(\"Image\", img)"
   ]
  },
  {
   "cell_type": "code",
   "execution_count": 9,
   "metadata": {},
   "outputs": [],
   "source": [
    "def detect_img(img_path):\n",
    "\tmodel, classes, colors, output_layers = load_yolo()\n",
    "\timage, height, width, channels = load_image(img_path)\n",
    "\tblob, outputs = detect_objects(image, model, output_layers)\n",
    "\tboxes, confs, class_ids = get_box_dimensions(outputs, height, width)\n",
    "\tdraw_labels(boxes, confs, colors, class_ids, classes, image)\n",
    "\twhile True:\n",
    "\t\tkey = cv2.waitKey(1)\n",
    "\t\tif key == 27: # esc key\n",
    "\t\t\tbreak\n",
    "\tcv2.destroyAllWindows()\n",
    "\t"
   ]
  },
  {
   "cell_type": "code",
   "execution_count": 10,
   "metadata": {},
   "outputs": [],
   "source": [
    "detect_img('D:/Datasets/random images/derek-lee-C031beKcwdQ.jpg')"
   ]
  }
 ],
 "metadata": {
  "kernelspec": {
   "display_name": "cvpr",
   "language": "python",
   "name": "python3"
  },
  "language_info": {
   "codemirror_mode": {
    "name": "ipython",
    "version": 3
   },
   "file_extension": ".py",
   "mimetype": "text/x-python",
   "name": "python",
   "nbconvert_exporter": "python",
   "pygments_lexer": "ipython3",
   "version": "3.9.16"
  },
  "orig_nbformat": 4
 },
 "nbformat": 4,
 "nbformat_minor": 2
}
